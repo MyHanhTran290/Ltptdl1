{
 "cells": [
  {
   "cell_type": "code",
   "execution_count": 49,
   "metadata": {},
   "outputs": [],
   "source": [
    "import numpy as np\n",
    "import pandas as pd\n",
    "import scipy.stats as stats\n",
    "import matplotlib.pyplot as plt\n",
    "import sklearn\n",
    "import statsmodels.api as sm\n",
    "from sklearn.linear_model import LinearRegression"
   ]
  },
  {
   "cell_type": "code",
   "execution_count": 50,
   "metadata": {},
   "outputs": [],
   "source": [
    "data = pd.read_csv(\"StudentsPerformance.csv\")"
   ]
  },
  {
   "cell_type": "code",
   "execution_count": null,
   "metadata": {},
   "outputs": [],
   "source": []
  },
  {
   "cell_type": "code",
   "execution_count": 51,
   "metadata": {},
   "outputs": [
    {
     "data": {
      "text/html": [
       "<div>\n",
       "<style scoped>\n",
       "    .dataframe tbody tr th:only-of-type {\n",
       "        vertical-align: middle;\n",
       "    }\n",
       "\n",
       "    .dataframe tbody tr th {\n",
       "        vertical-align: top;\n",
       "    }\n",
       "\n",
       "    .dataframe thead th {\n",
       "        text-align: right;\n",
       "    }\n",
       "</style>\n",
       "<table border=\"1\" class=\"dataframe\">\n",
       "  <thead>\n",
       "    <tr style=\"text-align: right;\">\n",
       "      <th></th>\n",
       "      <th>writing score</th>\n",
       "      <th>reading score</th>\n",
       "    </tr>\n",
       "  </thead>\n",
       "  <tbody>\n",
       "    <tr>\n",
       "      <th>0</th>\n",
       "      <td>74</td>\n",
       "      <td>72</td>\n",
       "    </tr>\n",
       "    <tr>\n",
       "      <th>1</th>\n",
       "      <td>88</td>\n",
       "      <td>90</td>\n",
       "    </tr>\n",
       "    <tr>\n",
       "      <th>2</th>\n",
       "      <td>93</td>\n",
       "      <td>95</td>\n",
       "    </tr>\n",
       "    <tr>\n",
       "      <th>3</th>\n",
       "      <td>44</td>\n",
       "      <td>57</td>\n",
       "    </tr>\n",
       "    <tr>\n",
       "      <th>4</th>\n",
       "      <td>75</td>\n",
       "      <td>78</td>\n",
       "    </tr>\n",
       "    <tr>\n",
       "      <th>...</th>\n",
       "      <td>...</td>\n",
       "      <td>...</td>\n",
       "    </tr>\n",
       "    <tr>\n",
       "      <th>995</th>\n",
       "      <td>95</td>\n",
       "      <td>99</td>\n",
       "    </tr>\n",
       "    <tr>\n",
       "      <th>996</th>\n",
       "      <td>55</td>\n",
       "      <td>55</td>\n",
       "    </tr>\n",
       "    <tr>\n",
       "      <th>997</th>\n",
       "      <td>65</td>\n",
       "      <td>71</td>\n",
       "    </tr>\n",
       "    <tr>\n",
       "      <th>998</th>\n",
       "      <td>77</td>\n",
       "      <td>78</td>\n",
       "    </tr>\n",
       "    <tr>\n",
       "      <th>999</th>\n",
       "      <td>86</td>\n",
       "      <td>86</td>\n",
       "    </tr>\n",
       "  </tbody>\n",
       "</table>\n",
       "<p>1000 rows × 2 columns</p>\n",
       "</div>"
      ],
      "text/plain": [
       "     writing score  reading score\n",
       "0               74             72\n",
       "1               88             90\n",
       "2               93             95\n",
       "3               44             57\n",
       "4               75             78\n",
       "..             ...            ...\n",
       "995             95             99\n",
       "996             55             55\n",
       "997             65             71\n",
       "998             77             78\n",
       "999             86             86\n",
       "\n",
       "[1000 rows x 2 columns]"
      ]
     },
     "execution_count": 51,
     "metadata": {},
     "output_type": "execute_result"
    }
   ],
   "source": [
    "data = pd.DataFrame({\n",
    "    'writing score' : data['writing score'],\n",
    "    'reading score' : data['reading score']\n",
    "})\n",
    "data"
   ]
  },
  {
   "cell_type": "code",
   "execution_count": 52,
   "metadata": {},
   "outputs": [
    {
     "data": {
      "text/html": [
       "<div>\n",
       "<style scoped>\n",
       "    .dataframe tbody tr th:only-of-type {\n",
       "        vertical-align: middle;\n",
       "    }\n",
       "\n",
       "    .dataframe tbody tr th {\n",
       "        vertical-align: top;\n",
       "    }\n",
       "\n",
       "    .dataframe thead th {\n",
       "        text-align: right;\n",
       "    }\n",
       "</style>\n",
       "<table border=\"1\" class=\"dataframe\">\n",
       "  <thead>\n",
       "    <tr style=\"text-align: right;\">\n",
       "      <th></th>\n",
       "      <th>writing score</th>\n",
       "      <th>reading score</th>\n",
       "    </tr>\n",
       "  </thead>\n",
       "  <tbody>\n",
       "    <tr>\n",
       "      <th>count</th>\n",
       "      <td>1000.000000</td>\n",
       "      <td>1000.000000</td>\n",
       "    </tr>\n",
       "    <tr>\n",
       "      <th>mean</th>\n",
       "      <td>68.054000</td>\n",
       "      <td>69.169000</td>\n",
       "    </tr>\n",
       "    <tr>\n",
       "      <th>std</th>\n",
       "      <td>15.195657</td>\n",
       "      <td>14.600192</td>\n",
       "    </tr>\n",
       "    <tr>\n",
       "      <th>min</th>\n",
       "      <td>10.000000</td>\n",
       "      <td>17.000000</td>\n",
       "    </tr>\n",
       "    <tr>\n",
       "      <th>25%</th>\n",
       "      <td>57.750000</td>\n",
       "      <td>59.000000</td>\n",
       "    </tr>\n",
       "    <tr>\n",
       "      <th>50%</th>\n",
       "      <td>69.000000</td>\n",
       "      <td>70.000000</td>\n",
       "    </tr>\n",
       "    <tr>\n",
       "      <th>75%</th>\n",
       "      <td>79.000000</td>\n",
       "      <td>79.000000</td>\n",
       "    </tr>\n",
       "    <tr>\n",
       "      <th>max</th>\n",
       "      <td>100.000000</td>\n",
       "      <td>100.000000</td>\n",
       "    </tr>\n",
       "  </tbody>\n",
       "</table>\n",
       "</div>"
      ],
      "text/plain": [
       "       writing score  reading score\n",
       "count    1000.000000    1000.000000\n",
       "mean       68.054000      69.169000\n",
       "std        15.195657      14.600192\n",
       "min        10.000000      17.000000\n",
       "25%        57.750000      59.000000\n",
       "50%        69.000000      70.000000\n",
       "75%        79.000000      79.000000\n",
       "max       100.000000     100.000000"
      ]
     },
     "execution_count": 52,
     "metadata": {},
     "output_type": "execute_result"
    }
   ],
   "source": [
    "data.describe()"
   ]
  },
  {
   "cell_type": "code",
   "execution_count": 53,
   "metadata": {},
   "outputs": [
    {
     "name": "stdout",
     "output_type": "stream",
     "text": [
      "<class 'pandas.core.frame.DataFrame'>\n",
      "RangeIndex: 1000 entries, 0 to 999\n",
      "Data columns (total 2 columns):\n",
      " #   Column         Non-Null Count  Dtype\n",
      "---  ------         --------------  -----\n",
      " 0   writing score  1000 non-null   int64\n",
      " 1   reading score  1000 non-null   int64\n",
      "dtypes: int64(2)\n",
      "memory usage: 15.8 KB\n"
     ]
    }
   ],
   "source": [
    "data.info()"
   ]
  },
  {
   "cell_type": "code",
   "execution_count": 54,
   "metadata": {},
   "outputs": [
    {
     "data": {
      "text/plain": [
       "writing score    0\n",
       "reading score    0\n",
       "dtype: int64"
      ]
     },
     "execution_count": 54,
     "metadata": {},
     "output_type": "execute_result"
    }
   ],
   "source": [
    "data.isnull().sum()"
   ]
  },
  {
   "cell_type": "code",
   "execution_count": 55,
   "metadata": {},
   "outputs": [
    {
     "data": {
      "image/png": "[encoded data removed]",
      "text/plain": [
       "<Figure size 720x432 with 1 Axes>"
      ]
     },
     "metadata": {
      "needs_background": "light"
     },
     "output_type": "display_data"
    }
   ],
   "source": [
    "# Bieu do phan tan xem muc do tuong quan cua du lieu\n",
    "plt.figure(figsize=(10,6))\n",
    "plt.scatter(data['writing score'],data['reading score'], alpha=0.5)\n",
    "plt.xlabel('Diem viet')\n",
    "plt.ylabel('Diem doc')\n",
    "plt.show()\n",
    "\n",
    "# danh gia: diem viet tuong quan thuan voi diem doc"
   ]
  },
  {
   "cell_type": "code",
   "execution_count": 56,
   "metadata": {},
   "outputs": [
    {
     "data": {
      "image/png": "[encoded data removed]",
      "text/plain": [
       "<Figure size 432x288 with 1 Axes>"
      ]
     },
     "metadata": {
      "needs_background": "light"
     },
     "output_type": "display_data"
    }
   ],
   "source": [
    "z= np.polyfit(data['writing score'], data['reading score'], 1)\n",
    "p= np.poly1d(z)\n",
    "plt.plot(data['writing score'], p(data['writing score']),'r--', alpha=0.8)\n",
    "plt.show()"
   ]
  },
  {
   "cell_type": "code",
   "execution_count": 57,
   "metadata": {},
   "outputs": [],
   "source": [
    "from sklearn.model_selection import train_test_split\n",
    "\n",
    "X= data['writing score'].values.reshape(-1,1)\n",
    "y= data['reading score'].values"
   ]
  },
  {
   "cell_type": "code",
   "execution_count": null,
   "metadata": {},
   "outputs": [
    {
     "data": {
      "text/plain": [
       "LinearRegression()"
      ]
     },
     "execution_count": 58,
     "metadata": {},
     "output_type": "execute_result"
    }
   ],
   "source": [
    "# Chia dữ liệu thành tập huấn luyện và tập kiểm tra\n",
    "X_train, X_test, y_train, y_test = train_test_split(X, y, test_size=0.2)\n",
    "# Tạo và huấn luyện mô hình HỒI QUY TUYẾN TÍNH\n",
    "model = LinearRegression()\n",
    "model.fit(X_train, y_train)"
   ]
  },
  {
   "cell_type": "code",
   "execution_count": 59,
   "metadata": {},
   "outputs": [
    {
     "data": {
      "text/plain": [
       "array([[ 77],\n",
       "       [ 76],\n",
       "       [ 42],\n",
       "       [ 74],\n",
       "       [ 34],\n",
       "       [ 77],\n",
       "       [ 77],\n",
       "       [ 82],\n",
       "       [ 56],\n",
       "       [ 67],\n",
       "       [ 81],\n",
       "       [ 68],\n",
       "       [ 57],\n",
       "       [ 65],\n",
       "       [ 77],\n",
       "       [ 93],\n",
       "       [ 56],\n",
       "       [ 59],\n",
       "       [ 59],\n",
       "       [ 66],\n",
       "       [ 71],\n",
       "       [ 66],\n",
       "       [ 56],\n",
       "       [ 91],\n",
       "       [ 23],\n",
       "       [ 76],\n",
       "       [ 70],\n",
       "       [ 59],\n",
       "       [ 73],\n",
       "       [ 36],\n",
       "       [ 80],\n",
       "       [ 36],\n",
       "       [ 54],\n",
       "       [ 51],\n",
       "       [ 78],\n",
       "       [ 63],\n",
       "       [ 66],\n",
       "       [ 53],\n",
       "       [ 73],\n",
       "       [ 78],\n",
       "       [ 82],\n",
       "       [ 62],\n",
       "       [ 66],\n",
       "       [ 44],\n",
       "       [ 70],\n",
       "       [ 88],\n",
       "       [ 80],\n",
       "       [ 73],\n",
       "       [ 53],\n",
       "       [ 34],\n",
       "       [ 74],\n",
       "       [ 46],\n",
       "       [ 54],\n",
       "       [ 69],\n",
       "       [ 75],\n",
       "       [ 96],\n",
       "       [ 94],\n",
       "       [ 70],\n",
       "       [ 92],\n",
       "       [ 84],\n",
       "       [ 77],\n",
       "       [ 62],\n",
       "       [ 75],\n",
       "       [ 52],\n",
       "       [ 91],\n",
       "       [ 64],\n",
       "       [ 94],\n",
       "       [ 71],\n",
       "       [ 78],\n",
       "       [ 81],\n",
       "       [ 53],\n",
       "       [ 53],\n",
       "       [ 51],\n",
       "       [ 80],\n",
       "       [ 65],\n",
       "       [ 67],\n",
       "       [ 72],\n",
       "       [100],\n",
       "       [ 81],\n",
       "       [ 51],\n",
       "       [ 70],\n",
       "       [ 84],\n",
       "       [ 90],\n",
       "       [ 52],\n",
       "       [ 72],\n",
       "       [ 93],\n",
       "       [ 45],\n",
       "       [ 73],\n",
       "       [ 88],\n",
       "       [ 76],\n",
       "       [ 52],\n",
       "       [ 42],\n",
       "       [ 54],\n",
       "       [ 77],\n",
       "       [ 10],\n",
       "       [ 82],\n",
       "       [ 41],\n",
       "       [ 76],\n",
       "       [ 85],\n",
       "       [ 82],\n",
       "       [ 78],\n",
       "       [ 68],\n",
       "       [ 74],\n",
       "       [ 65],\n",
       "       [ 83],\n",
       "       [ 71],\n",
       "       [ 62],\n",
       "       [ 97],\n",
       "       [ 77],\n",
       "       [ 68],\n",
       "       [ 58],\n",
       "       [ 60],\n",
       "       [ 69],\n",
       "       [ 51],\n",
       "       [ 61],\n",
       "       [ 78],\n",
       "       [ 55],\n",
       "       [ 22],\n",
       "       [ 41],\n",
       "       [ 75],\n",
       "       [ 50],\n",
       "       [ 78],\n",
       "       [ 88],\n",
       "       [ 58],\n",
       "       [ 83],\n",
       "       [ 44],\n",
       "       [ 70],\n",
       "       [ 72],\n",
       "       [ 86],\n",
       "       [ 76],\n",
       "       [ 61],\n",
       "       [ 64],\n",
       "       [ 76],\n",
       "       [ 91],\n",
       "       [ 76],\n",
       "       [ 75],\n",
       "       [ 72],\n",
       "       [ 53],\n",
       "       [ 54],\n",
       "       [ 40],\n",
       "       [ 70],\n",
       "       [ 95],\n",
       "       [ 66],\n",
       "       [ 70],\n",
       "       [ 73],\n",
       "       [100],\n",
       "       [ 55],\n",
       "       [ 54],\n",
       "       [ 64],\n",
       "       [ 51],\n",
       "       [ 76],\n",
       "       [ 67],\n",
       "       [ 74],\n",
       "       [ 63],\n",
       "       [ 79],\n",
       "       [ 54],\n",
       "       [ 47],\n",
       "       [ 91],\n",
       "       [ 64],\n",
       "       [ 63],\n",
       "       [ 80],\n",
       "       [ 87],\n",
       "       [ 55],\n",
       "       [ 85],\n",
       "       [ 65],\n",
       "       [ 92],\n",
       "       [ 69],\n",
       "       [ 74],\n",
       "       [ 73],\n",
       "       [ 77],\n",
       "       [ 75],\n",
       "       [ 41],\n",
       "       [ 58],\n",
       "       [ 56],\n",
       "       [ 63],\n",
       "       [100],\n",
       "       [ 73],\n",
       "       [ 54],\n",
       "       [ 58],\n",
       "       [ 77],\n",
       "       [ 66],\n",
       "       [ 92],\n",
       "       [ 62],\n",
       "       [ 77],\n",
       "       [ 59],\n",
       "       [ 62],\n",
       "       [ 60],\n",
       "       [ 43],\n",
       "       [ 50],\n",
       "       [ 85],\n",
       "       [ 56],\n",
       "       [ 70],\n",
       "       [ 61],\n",
       "       [ 90],\n",
       "       [ 69],\n",
       "       [ 84],\n",
       "       [ 71],\n",
       "       [ 51],\n",
       "       [ 56],\n",
       "       [ 65]], dtype=int64)"
      ]
     },
     "execution_count": 59,
     "metadata": {},
     "output_type": "execute_result"
    }
   ],
   "source": [
    "X_test"
   ]
  },
  {
   "cell_type": "code",
   "execution_count": 60,
   "metadata": {},
   "outputs": [
    {
     "data": {
      "text/plain": [
       "array([77.40727056, 76.48806183, 45.234965  , 74.64964437, 37.88129516,\n",
       "       77.40727056, 77.40727056, 82.00331421, 58.10388722, 68.21518325,\n",
       "       81.08410548, 69.13439199, 59.02309595, 66.37676579, 77.40727056,\n",
       "       92.11461024, 58.10388722, 60.86151341, 60.86151341, 67.29597452,\n",
       "       71.89201818, 67.29597452, 58.10388722, 90.27619278, 27.76999913,\n",
       "       76.48806183, 70.97280945, 60.86151341, 73.73043564, 39.71971262,\n",
       "       80.16489675, 39.71971262, 56.26546976, 53.50784357, 78.32647929,\n",
       "       64.53834833, 67.29597452, 55.34626103, 73.73043564, 78.32647929,\n",
       "       82.00331421, 63.6191396 , 67.29597452, 47.07338246, 70.97280945,\n",
       "       87.51856659, 80.16489675, 73.73043564, 55.34626103, 37.88129516,\n",
       "       74.64964437, 48.91179992, 56.26546976, 70.05360072, 75.5688531 ,\n",
       "       94.87223643, 93.03381897, 70.97280945, 91.19540151, 83.84173167,\n",
       "       77.40727056, 63.6191396 , 75.5688531 , 54.4270523 , 90.27619278,\n",
       "       65.45755706, 93.03381897, 71.89201818, 78.32647929, 81.08410548,\n",
       "       55.34626103, 55.34626103, 53.50784357, 80.16489675, 66.37676579,\n",
       "       68.21518325, 72.81122691, 98.54907135, 81.08410548, 53.50784357,\n",
       "       70.97280945, 83.84173167, 89.35698405, 54.4270523 , 72.81122691,\n",
       "       92.11461024, 47.99259119, 73.73043564, 87.51856659, 76.48806183,\n",
       "       54.4270523 , 45.234965  , 56.26546976, 77.40727056, 15.82028564,\n",
       "       82.00331421, 44.31575627, 76.48806183, 84.7609404 , 82.00331421,\n",
       "       78.32647929, 69.13439199, 74.64964437, 66.37676579, 82.92252294,\n",
       "       71.89201818, 63.6191396 , 95.79144516, 77.40727056, 69.13439199,\n",
       "       59.94230468, 61.78072214, 70.05360072, 53.50784357, 62.69993087,\n",
       "       78.32647929, 57.18467849, 26.8507904 , 44.31575627, 75.5688531 ,\n",
       "       52.58863484, 78.32647929, 87.51856659, 59.94230468, 82.92252294,\n",
       "       47.07338246, 70.97280945, 72.81122691, 85.68014913, 76.48806183,\n",
       "       62.69993087, 65.45755706, 76.48806183, 90.27619278, 76.48806183,\n",
       "       75.5688531 , 72.81122691, 55.34626103, 56.26546976, 43.39654754,\n",
       "       70.97280945, 93.9530277 , 67.29597452, 70.97280945, 73.73043564,\n",
       "       98.54907135, 57.18467849, 56.26546976, 65.45755706, 53.50784357,\n",
       "       76.48806183, 68.21518325, 74.64964437, 64.53834833, 79.24568802,\n",
       "       56.26546976, 49.83100865, 90.27619278, 65.45755706, 64.53834833,\n",
       "       80.16489675, 86.59935786, 57.18467849, 84.7609404 , 66.37676579,\n",
       "       91.19540151, 70.05360072, 74.64964437, 73.73043564, 77.40727056,\n",
       "       75.5688531 , 44.31575627, 59.94230468, 58.10388722, 64.53834833,\n",
       "       98.54907135, 73.73043564, 56.26546976, 59.94230468, 77.40727056,\n",
       "       67.29597452, 91.19540151, 63.6191396 , 77.40727056, 60.86151341,\n",
       "       63.6191396 , 61.78072214, 46.15417373, 52.58863484, 84.7609404 ,\n",
       "       58.10388722, 70.97280945, 62.69993087, 89.35698405, 70.05360072,\n",
       "       83.84173167, 71.89201818, 53.50784357, 58.10388722, 66.37676579])"
      ]
     },
     "execution_count": 60,
     "metadata": {},
     "output_type": "execute_result"
    }
   ],
   "source": [
    "X_test\n",
    "y_pred = model.predict(X_test)\n",
    "y_pred"
   ]
  },
  {
   "cell_type": "code",
   "execution_count": 61,
   "metadata": {},
   "outputs": [
    {
     "data": {
      "text/plain": [
       "array([77.40727056, 76.48806183, 45.234965  , 74.64964437, 37.88129516,\n",
       "       77.40727056, 77.40727056, 82.00331421, 58.10388722, 68.21518325,\n",
       "       81.08410548, 69.13439199, 59.02309595, 66.37676579, 77.40727056,\n",
       "       92.11461024, 58.10388722, 60.86151341, 60.86151341, 67.29597452,\n",
       "       71.89201818, 67.29597452, 58.10388722, 90.27619278, 27.76999913,\n",
       "       76.48806183, 70.97280945, 60.86151341, 73.73043564, 39.71971262,\n",
       "       80.16489675, 39.71971262, 56.26546976, 53.50784357, 78.32647929,\n",
       "       64.53834833, 67.29597452, 55.34626103, 73.73043564, 78.32647929,\n",
       "       82.00331421, 63.6191396 , 67.29597452, 47.07338246, 70.97280945,\n",
       "       87.51856659, 80.16489675, 73.73043564, 55.34626103, 37.88129516,\n",
       "       74.64964437, 48.91179992, 56.26546976, 70.05360072, 75.5688531 ,\n",
       "       94.87223643, 93.03381897, 70.97280945, 91.19540151, 83.84173167,\n",
       "       77.40727056, 63.6191396 , 75.5688531 , 54.4270523 , 90.27619278,\n",
       "       65.45755706, 93.03381897, 71.89201818, 78.32647929, 81.08410548,\n",
       "       55.34626103, 55.34626103, 53.50784357, 80.16489675, 66.37676579,\n",
       "       68.21518325, 72.81122691, 98.54907135, 81.08410548, 53.50784357,\n",
       "       70.97280945, 83.84173167, 89.35698405, 54.4270523 , 72.81122691,\n",
       "       92.11461024, 47.99259119, 73.73043564, 87.51856659, 76.48806183,\n",
       "       54.4270523 , 45.234965  , 56.26546976, 77.40727056, 15.82028564,\n",
       "       82.00331421, 44.31575627, 76.48806183, 84.7609404 , 82.00331421,\n",
       "       78.32647929, 69.13439199, 74.64964437, 66.37676579, 82.92252294,\n",
       "       71.89201818, 63.6191396 , 95.79144516, 77.40727056, 69.13439199,\n",
       "       59.94230468, 61.78072214, 70.05360072, 53.50784357, 62.69993087,\n",
       "       78.32647929, 57.18467849, 26.8507904 , 44.31575627, 75.5688531 ,\n",
       "       52.58863484, 78.32647929, 87.51856659, 59.94230468, 82.92252294,\n",
       "       47.07338246, 70.97280945, 72.81122691, 85.68014913, 76.48806183,\n",
       "       62.69993087, 65.45755706, 76.48806183, 90.27619278, 76.48806183,\n",
       "       75.5688531 , 72.81122691, 55.34626103, 56.26546976, 43.39654754,\n",
       "       70.97280945, 93.9530277 , 67.29597452, 70.97280945, 73.73043564,\n",
       "       98.54907135, 57.18467849, 56.26546976, 65.45755706, 53.50784357,\n",
       "       76.48806183, 68.21518325, 74.64964437, 64.53834833, 79.24568802,\n",
       "       56.26546976, 49.83100865, 90.27619278, 65.45755706, 64.53834833,\n",
       "       80.16489675, 86.59935786, 57.18467849, 84.7609404 , 66.37676579,\n",
       "       91.19540151, 70.05360072, 74.64964437, 73.73043564, 77.40727056,\n",
       "       75.5688531 , 44.31575627, 59.94230468, 58.10388722, 64.53834833,\n",
       "       98.54907135, 73.73043564, 56.26546976, 59.94230468, 77.40727056,\n",
       "       67.29597452, 91.19540151, 63.6191396 , 77.40727056, 60.86151341,\n",
       "       63.6191396 , 61.78072214, 46.15417373, 52.58863484, 84.7609404 ,\n",
       "       58.10388722, 70.97280945, 62.69993087, 89.35698405, 70.05360072,\n",
       "       83.84173167, 71.89201818, 53.50784357, 58.10388722, 66.37676579])"
      ]
     },
     "execution_count": 61,
     "metadata": {},
     "output_type": "execute_result"
    }
   ],
   "source": [
    "y_pred = model.predict(X_test)\n",
    "y_pred"
   ]
  },
  {
   "cell_type": "code",
   "execution_count": null,
   "metadata": {},
   "outputs": [
    {
     "name": "stdout",
     "output_type": "stream",
     "text": [
      "R-squared: 0.9207342959196454\n",
      "Sai số bình phương trung bình: 4.195590398628924\n"
     ]
    }
   ],
   "source": [
    "# --------------- STEP 4: Evaluation --------------- \n",
    "# Tính toán sai số bình phương trung bình, R-squared \n",
    "from sklearn.metrics import mean_squared_error, r2_score\n",
    "r2 = r2_score(y_test, y_pred)\n",
    "print(\"R-squared:\", r2)\n",
    "mse = np.sqrt(mean_squared_error(y_test,y_pred))\n",
    "print(\"Sai số bình phương trung bình (MSE):\", mse) \n",
    "\n",
    "# R2: 92.07% sự biến động của điểm số đọc có thể được giải thích bởi điểm số viết gan 1: gia thich tot su bien dong cua du lieu\n",
    "# gan 0: giai thich kem su bien dong cua du lieu\n",
    "# sai số giữa giá trị dự đoán và giá trị thực tế là 4.1956, dự đoán của mô hình khá gần với các giá trị thực tế"
   ]
  }
 ],
 "metadata": {
  "kernelspec": {
   "display_name": "base",
   "language": "python",
   "name": "python3"
  },
  "language_info": {
   "codemirror_mode": {
    "name": "ipython",
    "version": 3
   },
   "file_extension": ".py",
   "mimetype": "text/x-python",
   "name": "python",
   "nbconvert_exporter": "python",
   "pygments_lexer": "ipython3",
   "version": "3.8.5"
  }
 },
 "nbformat": 4,
 "nbformat_minor": 2
}
